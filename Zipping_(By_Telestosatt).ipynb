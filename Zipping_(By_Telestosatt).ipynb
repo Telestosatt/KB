{
  "nbformat": 4,
  "nbformat_minor": 0,
  "metadata": {
    "colab": {
      "name": "Zipping (By Telestosatt).ipynb",
      "provenance": [],
      "collapsed_sections": [
        "eCq0FZQ2sou9"
      ]
    },
    "kernelspec": {
      "name": "python3",
      "display_name": "Python 3"
    }
  },
  "cells": [
    {
      "cell_type": "markdown",
      "metadata": {
        "id": "h5ZfgZtgcbh7",
        "colab_type": "text"
      },
      "source": [
        "# Mounting Gdrive\n",
        "<img src='https://i.ibb.co/nD9NnTc/drive.png' height=\"65\" alt=\"GDrive\"/>\n"
      ]
    },
    {
      "cell_type": "code",
      "metadata": {
        "id": "Cs30p86scVke",
        "colab_type": "code",
        "cellView": "form",
        "colab": {}
      },
      "source": [
        "#@markdown <h3>⬅️ Run this cell to mount your Google drive</h3>\n",
        "from google.colab import drive\n",
        "drive.mount('/content/drive')"
      ],
      "execution_count": 0,
      "outputs": []
    },
    {
      "cell_type": "markdown",
      "metadata": {
        "id": "W00S18BPcjP_",
        "colab_type": "text"
      },
      "source": [
        "#  Make a Directory\n",
        "\n",
        "**<font color=\"#40e0d0\">Run the cell as it is</font>**"
      ]
    },
    {
      "cell_type": "code",
      "metadata": {
        "id": "dayctUPycmRk",
        "colab_type": "code",
        "cellView": "form",
        "colab": {}
      },
      "source": [
        "#@title ⬅️ Run This Cell to Create a new directory\n",
        "newfolder= \"/content/zipped files\" #@param {type:\"string\"}\n",
        "!mkdir \"$newfolder\""
      ],
      "execution_count": 0,
      "outputs": []
    },
    {
      "cell_type": "markdown",
      "metadata": {
        "id": "L5iHCeXgcq68",
        "colab_type": "text"
      },
      "source": [
        "# zipping files\n",
        "\n",
        "**<font color=\"#40e0d0\">Do not change Destination path</font>**"
      ]
    },
    {
      "cell_type": "markdown",
      "metadata": {
        "id": "s3oWYeLrdAG_",
        "colab_type": "text"
      },
      "source": [
        "## Zipping files in a folder to a separate destination folder\n"
      ]
    },
    {
      "cell_type": "code",
      "metadata": {
        "id": "vuHhv5BDdN6L",
        "colab_type": "code",
        "cellView": "form",
        "colab": {}
      },
      "source": [
        "#@title ⬅️ Run This Cell to  start zipping \n",
        "src = \"/content/drive/My Drive/Copy of Deeper.January-November.2019.720p.WEB-DL.AAC2.0.H.264-ForeverAloneDude.mp4\" #@param {type:\"string\"}\n",
        "nameofzip= \"\" #@param {type:\"string\"}\n",
        "dest = \"/content/zipped files\" #@param {type:\"string\"}\n",
        "\n",
        "%cd /content/zipped files\n",
        "!7z a \"$nameofzip\".zip \"$src\"\n",
        "%cd /content\n",
        "\n",
        "print(\"Successfully Zipped\")"
      ],
      "execution_count": 0,
      "outputs": []
    },
    {
      "cell_type": "markdown",
      "metadata": {
        "id": "agIVRjQ9r-bi",
        "colab_type": "text"
      },
      "source": [
        "# Moving Extracted files from colab to GD/TD\n",
        "\n",
        "\n",
        "**<font color=\"#40e0d0\">Do not change the source path</font>**"
      ]
    },
    {
      "cell_type": "markdown",
      "metadata": {
        "id": "wDDMEPIFsFuX",
        "colab_type": "text"
      },
      "source": [
        "## Moving files and folders (using !MV)\n",
        "\n",
        "**<font color=\"#40e0d0\"><code>desired folder name</code> is the folder name which you want at destination</font>**"
      ]
    },
    {
      "cell_type": "code",
      "metadata": {
        "id": "byZuxRXUsPTz",
        "colab_type": "code",
        "cellView": "form",
        "colab": {}
      },
      "source": [
        "#@title ⬅️ Run This Cell to MOVE \"A single file\" or \"whole Source folder\" to destination folder\n",
        "src = \"/content/zipped files\" #@param {type:\"string\"}\n",
        "desired_folder_name = \"\"#@param {type:\"string\"}\n",
        "dest = \"\" #@param {type:\"string\"}\n",
        "\n",
        "!mkdir \"/content/$desired_folder_name\"\n",
        "!mv \"$src\" \"/content/$desired_folder_name\"\n",
        "!mv \"/content/$desired_folder_name\" \"$dest\"\n",
        "print(\"Successfully Moved\")"
      ],
      "execution_count": 0,
      "outputs": []
    },
    {
      "cell_type": "markdown",
      "metadata": {
        "id": "eCq0FZQ2sou9",
        "colab_type": "text"
      },
      "source": [
        "# Some extra cells and codes \n",
        "(Just in case)"
      ]
    },
    {
      "cell_type": "markdown",
      "metadata": {
        "id": "eA5XYpNhsurZ",
        "colab_type": "text"
      },
      "source": [
        "##  Deleting a Directory"
      ]
    },
    {
      "cell_type": "code",
      "metadata": {
        "id": "WxF0LW_JsyF5",
        "colab_type": "code",
        "cellView": "form",
        "colab": {}
      },
      "source": [
        "#@title ⬅️ Run This Cell to Delete a Directory\n",
        "import os, shutil\n",
        "path = \"\" #@param {type:\"string\"}\n",
        "shutil.rmtree(path)\n",
        "print(\"Successfully deleted\")"
      ],
      "execution_count": 0,
      "outputs": []
    }
  ]
}