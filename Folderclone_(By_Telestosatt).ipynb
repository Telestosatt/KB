{
  "nbformat": 4,
  "nbformat_minor": 0,
  "metadata": {
    "colab": {
      "name": "Folderclone (By Telestosatt).ipynb",
      "provenance": [],
      "collapsed_sections": [
        "jWNiE-RGECHM",
        "MbJ_88vSD-K2",
        "bair2CwJAM8y",
        "n3MWoStHEnJx",
        "sEhP8xxY_7c9",
        "t0eVljW0O0CG"
      ],
      "toc_visible": true
    },
    "kernelspec": {
      "name": "python3",
      "display_name": "Python 3"
    },
    "accelerator": "TPU"
  },
  "cells": [
    {
      "cell_type": "markdown",
      "metadata": {
        "id": "jWNiE-RGECHM",
        "colab_type": "text"
      },
      "source": [
        "# **<font color=\"#e936a7\">1. Installing Folderclone module</font>**"
      ]
    },
    {
      "cell_type": "code",
      "metadata": {
        "id": "12dTZfUQEN8b",
        "colab_type": "code",
        "cellView": "form",
        "colab": {}
      },
      "source": [
        "#@markdown <h3>⬅️ <font color=\"#40e0d0\"><b>Run this cell to install Folderclone module</b></font></h3>\n",
        "!pip3 install folderclone"
      ],
      "execution_count": 0,
      "outputs": []
    },
    {
      "cell_type": "markdown",
      "metadata": {
        "id": "MbJ_88vSD-K2",
        "colab_type": "text"
      },
      "source": [
        "# **<font color=\"#e936a7\">2. Pulling your repo from github</font>**\n",
        "**<font color=\"#40e0d0\">(Delete \"HTTPS://\" from Repo link)</font>**"
      ]
    },
    {
      "cell_type": "code",
      "metadata": {
        "id": "h5kQ5bxsDNiX",
        "colab_type": "code",
        "cellView": "form",
        "colab": {}
      },
      "source": [
        "#@markdown <h3>⬅️ <font color=\"#40e0d0\"><b>Click here download your private repo</b></font></h3>\n",
        "import os\n",
        "username = \"\" #@param {type:\"string\"}\n",
        "Password = \"\"#@param {type:\"string\"}\n",
        "Repolink = \"\"#@param {type:\"string\"}\n",
        "!git clone https://\"$username\":\"$Password\"@\"$Repolink\".git"
      ],
      "execution_count": 0,
      "outputs": []
    },
    {
      "cell_type": "markdown",
      "metadata": {
        "id": "bair2CwJAM8y",
        "colab_type": "text"
      },
      "source": [
        "# **<font color=\"#e936a7\">3. Adding google group to TDs</font>**"
      ]
    },
    {
      "cell_type": "markdown",
      "metadata": {
        "id": "KJ62_l0mGUml",
        "colab_type": "text"
      },
      "source": [
        "##<font color=\"#40e0d0\">Add your google group (containing \"all\" SAs) in \"Destination TD\" as \"contributor \"</font>\n",
        "<font color=\"#40e0d0\">If doning TD to TD cloning, Add your group in \"Source TD\" as \"viewer\"</font>"
      ]
    },
    {
      "cell_type": "markdown",
      "metadata": {
        "id": "n3MWoStHEnJx",
        "colab_type": "text"
      },
      "source": [
        "# **<font color=\"#e936a7\">4. Running Folderclone</font>**\n",
        "\n",
        "**<font color=\"#40e0d0\">(Add Source folder ID and Destination Folder ID)</font>**\n",
        "\n",
        "**<font color=\"#40e0d0\">(In accounts path, put path of accounts folder)</font>**"
      ]
    },
    {
      "cell_type": "code",
      "metadata": {
        "id": "qHQzhGLUEy2J",
        "colab_type": "code",
        "cellView": "form",
        "colab": {}
      },
      "source": [
        "#@markdown <h3>⬅️<font color=\"#40e0d0\"><b>Run this cell to start Folderclone </b></font></h3>\n",
        "src = \"\" #@param {type:\"string\"}\n",
        "dest = \"\" #@param {type:\"string\"}\n",
        "accountspath = \"/content/newmfc/accounts\"#@param {type:\"string\"}\n",
        "!multifolderclone -s \"$src\" -d \"$dest\" --path \"$accountspath\""
      ],
      "execution_count": 0,
      "outputs": []
    },
    {
      "cell_type": "markdown",
      "metadata": {
        "id": "sEhP8xxY_7c9",
        "colab_type": "text"
      },
      "source": [
        "# **<font color=\"#e936a7\">5. Folderclone HELP</font>**"
      ]
    },
    {
      "cell_type": "code",
      "metadata": {
        "id": "b83C_WBrZOSv",
        "colab_type": "code",
        "cellView": "form",
        "colab": {}
      },
      "source": [
        "#@markdown <h3>⬅️ <font color=\"#40e0d0\"><b>Run this cell to see --help</b></font></h3>\n",
        "!multifolderclone --help"
      ],
      "execution_count": 0,
      "outputs": []
    },
    {
      "cell_type": "markdown",
      "metadata": {
        "id": "t0eVljW0O0CG",
        "colab_type": "text"
      },
      "source": [
        "# **<font color=\"#e936a7\">6. Deleting a Directory** (if needed, just in case)</font>"
      ]
    },
    {
      "cell_type": "code",
      "metadata": {
        "id": "LgG4fBSgO9Ev",
        "colab_type": "code",
        "cellView": "form",
        "colab": {}
      },
      "source": [
        "#@title ⬅️ <font color=\"#40e0d0\"><b>Run This Cell to Delete a Directory</b></font>\n",
        "import os, shutil\n",
        "path = \"/content/newmfc\" #@param {type:\"string\"}\n",
        "shutil.rmtree(path)\n",
        "print(\"Successfully deleted 👍\")"
      ],
      "execution_count": 0,
      "outputs": []
    }
  ]
}