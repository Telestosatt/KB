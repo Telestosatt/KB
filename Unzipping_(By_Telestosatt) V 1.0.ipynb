{
  "nbformat": 4,
  "nbformat_minor": 0,
  "metadata": {
    "colab": {
      "name": "Unzipping (By Telestosatt).ipynb",
      "provenance": [],
      "collapsed_sections": [
        "9tEsW24vqDa0",
        "KXOv49d-qRBg",
        "pkc4St7Rqegj"
      ],
      "toc_visible": true
    },
    "kernelspec": {
      "name": "python3",
      "display_name": "Python 3"
    }
  },
  "cells": [
    {
      "cell_type": "markdown",
      "metadata": {
        "id": "9tEsW24vqDa0",
        "colab_type": "text"
      },
      "source": [
        "# Mounting Gdrive\n",
        "<img src='https://i.ibb.co/nD9NnTc/drive.png' height=\"65\" alt=\"GDrive\"/>\n"
      ]
    },
    {
      "cell_type": "code",
      "metadata": {
        "id": "wQude4ASp2O8",
        "colab_type": "code",
        "cellView": "form",
        "colab": {}
      },
      "source": [
        "#@markdown <h3>⬅️ Run this cell to mount your Google drive</h3>\n",
        "from google.colab import drive\n",
        "drive.mount('/content/drive')"
      ],
      "execution_count": 0,
      "outputs": []
    },
    {
      "cell_type": "markdown",
      "metadata": {
        "id": "wyjtOQ1ZsoFg",
        "colab_type": "text"
      },
      "source": [
        "#  Make a Directory\n",
        "\n",
        "**<font color=\"#40e0d0\">Run the cell as it is</font>**"
      ]
    },
    {
      "cell_type": "code",
      "metadata": {
        "id": "XouGlwZasuFo",
        "colab_type": "code",
        "cellView": "form",
        "colab": {}
      },
      "source": [
        "#@title ⬅️ Run This Cell to Create a new directory\n",
        "newfolder= \"/content/Unzipped files\" #@param {type:\"string\"}\n",
        "!mkdir \"$newfolder\""
      ],
      "execution_count": 0,
      "outputs": []
    },
    {
      "cell_type": "markdown",
      "metadata": {
        "id": "WRzB-wL0r4is",
        "colab_type": "text"
      },
      "source": [
        "# Unzipping files\n",
        "\n",
        "**<font color=\"#40e0d0\">Do not change Destination path</font>**"
      ]
    },
    {
      "cell_type": "markdown",
      "metadata": {
        "id": "KXOv49d-qRBg",
        "colab_type": "text"
      },
      "source": [
        "## 2 (A). Unzipping Files with Password"
      ]
    },
    {
      "cell_type": "code",
      "metadata": {
        "id": "Fo-trWwAqQTi",
        "colab_type": "code",
        "cellView": "form",
        "colab": {}
      },
      "source": [
        "#@markdown <h3>⬅️ Run this cell to start the extraction</h3>\n",
        "import os\n",
        "format = \"7z\" #@param [\"RAR\", \"ZIP\", \"7z\"]\n",
        "source_path = \"\" #@param {type:\"string\"}\n",
        "destination_folder = \"/content/Unzipped files\" #@param {type:\"string\"}\n",
        "password = \"\" #@param {type:\"string\"}\n",
        "\n",
        "os.environ[\"sourceC\"] = source_path\n",
        "os.environ[\"destinationC\"] = destination_folder\n",
        "os.environ[\"pasC\"] = password\n",
        "\n",
        "if format == \"RAR\":\n",
        "  !unrar e \"-p$pasC\" \"$sourceC\" \"$destinationC\"\n",
        "elif format == \"ZIP\":\n",
        "  !unzip -P \"$pasC\" \"$sourceC\" -d \"$destinationC\"\n",
        "elif format == \"7z\":\n",
        "  !7z -mmt6 x \"$sourceC\" -o\"$destinationC\" -p\"$pasC\""
      ],
      "execution_count": 0,
      "outputs": []
    },
    {
      "cell_type": "markdown",
      "metadata": {
        "id": "pkc4St7Rqegj",
        "colab_type": "text"
      },
      "source": [
        "## 2 (B). Another way of unzipping\n",
        "**(Some complained me that the above one is not working. Asking password for non-password rar files also. So I incorporated these codes as well)**"
      ]
    },
    {
      "cell_type": "code",
      "metadata": {
        "id": "Fs9woH3tqnIE",
        "colab_type": "code",
        "cellView": "form",
        "colab": {}
      },
      "source": [
        "#@markdown <h3>⬅️ Run this cell to start the extraction</h3>\n",
        "import os\n",
        "source_path = \"\" #@param {type:\"string\"}\n",
        "destination_folder = \"/content/Unzipped files\" #@param {type:\"string\"}\n",
        "\n",
        "os.environ[\"sourceC\"] = source_path\n",
        "os.environ[\"destinationC\"] = destination_folder\n",
        "\n",
        "!7z x \"$sourceC\" -o\"$destinationC\""
      ],
      "execution_count": 0,
      "outputs": []
    },
    {
      "cell_type": "markdown",
      "metadata": {
        "id": "iyntGq_KrX-e",
        "colab_type": "text"
      },
      "source": [
        "# Moving Extracted files from colab to GD/TD\n",
        "\n",
        "\n",
        "**<font color=\"#40e0d0\">Do not change the source path</font>**"
      ]
    },
    {
      "cell_type": "markdown",
      "metadata": {
        "id": "DbwAWW8KrNQn",
        "colab_type": "text"
      },
      "source": [
        "## 3 (A). Another way of moving files and folders (using !rclone) (without rclone config)\n",
        "\n",
        "---\n",
        "\n",
        "\n",
        "**(If using for the 1st time after a runtime, you need to run the cell twice, otherwise you will face an error \"command not found\")**\n",
        "\n",
        "---"
      ]
    },
    {
      "cell_type": "code",
      "metadata": {
        "id": "xDycwWkvrU_Z",
        "colab_type": "code",
        "cellView": "form",
        "outputId": "678a78d7-6ec0-4f24-d092-f20f580ca9c8",
        "colab": {
          "base_uri": "https://localhost:8080/",
          "height": 36
        }
      },
      "source": [
        "#@title ⬅️ Run This Cell to move Files to destination folder\n",
        "src = \"/content/Unzipped files\" #@param {type:\"string\"}\n",
        "dest = \"\" #@param {type:\"string\"}\n",
        "import os; from IPython.display import clear_output\n",
        "\n",
        "  \n",
        "if os.path.isfile(\"/usr/bin/rclone\") == False:\n",
        "    get_ipython().system_raw('curl https://rclone.org/install.sh | sudo bash &')\n",
        "    print(\"Rclone successfully installed\")\n",
        "    clear_output(wait=True)\n",
        "    \n",
        "else:\n",
        "    print(\"Rclone already installed. Skipping installation...\")\n",
        "    clear_output(wait=True)\n",
        "!rclone move \"$src\" \"$dest\" -v --stats-one-line --stats=5s  --delete-empty-src-dirs\n",
        "clear_output(wait=True)\n",
        "print(\"Task finished\")"
      ],
      "execution_count": 0,
      "outputs": [
        {
          "output_type": "stream",
          "text": [
            "Task finished\n"
          ],
          "name": "stdout"
        }
      ]
    },
    {
      "cell_type": "markdown",
      "metadata": {
        "id": "--5-SRCDrDcv",
        "colab_type": "text"
      },
      "source": [
        "## 3 (B). Moving files and folders (using !MV)\n",
        "\n",
        "**<font color=\"#40e0d0\"><code>desired folder name</code> is the folder name which you want at destination</font>**"
      ]
    },
    {
      "cell_type": "code",
      "metadata": {
        "id": "hglSFAIurHay",
        "colab_type": "code",
        "cellView": "form",
        "colab": {}
      },
      "source": [
        "#@title ⬅️ Run This Cell to MOVE \"A single file\" or \"whole Source folder\" to destination folder\n",
        "src = \"/content/Unzipped files\" #@param {type:\"string\"}\n",
        "desired_folder_name = \"\"#@param {type:\"string\"}\n",
        "dest = \"\" #@param {type:\"string\"}\n",
        "\n",
        "!mkdir \"/content/$desired_folder_name\"\n",
        "!mv \"$src\" \"/content/$desired_folder_name\"\n",
        "!mv \"/content/$desired_folder_name\" \"$dest\""
      ],
      "execution_count": 0,
      "outputs": []
    },
    {
      "cell_type": "markdown",
      "metadata": {
        "id": "kfaOypf2sG1S",
        "colab_type": "text"
      },
      "source": [
        "# 4 Some extra cells and codes \n",
        "(Just in case)"
      ]
    },
    {
      "cell_type": "markdown",
      "metadata": {
        "id": "2n2h2Jy-sRa2",
        "colab_type": "text"
      },
      "source": [
        "##  Deleting a Directory"
      ]
    },
    {
      "cell_type": "code",
      "metadata": {
        "id": "sluel2itsXgG",
        "colab_type": "code",
        "cellView": "form",
        "outputId": "0d7a500b-afba-4645-fd61-ba757569ff3a",
        "colab": {
          "base_uri": "https://localhost:8080/",
          "height": 36
        }
      },
      "source": [
        "#@title ⬅️ Run This Cell to Delete a Directory\n",
        "import os, shutil\n",
        "path = \"\" #@param {type:\"string\"}\n",
        "shutil.rmtree(path)\n",
        "print(\"Successfully deleted\")"
      ],
      "execution_count": 0,
      "outputs": [
        {
          "output_type": "stream",
          "text": [
            "Successfully deleted\n"
          ],
          "name": "stdout"
        }
      ]
    }
  ]
}
